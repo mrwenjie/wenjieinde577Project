{
 "cells": [
  {
   "cell_type": "markdown",
   "metadata": {},
   "source": [
    "# Lecture 10 Unsupervised Learning\n",
    "\n",
    "\n",
    "## Household Power Consumption Dataset Analysis\n",
    "\n",
    "### Introduction\n",
    "\n",
    "The Household Power Consumption dataset provides a valuable opportunity to explore and analyze energy usage patterns within a residential setting. This dataset contains measurements of various electrical quantities and sub-metering values collected over a period of nearly four years (December 2006 to November 2010) from a single household. The data was recorded at a high frequency of one-minute intervals, resulting in a rich and granular time-series dataset.\n",
    "\n",
    "The dataset encompasses the following features:\n",
    "\n",
    "- **Global Active Power**: The household's global minute-averaged active power consumption (in kilowatts).\n",
    "- **Global Reactive Power**: The household's global minute-averaged reactive power (in kilowatts).\n",
    "- **Voltage**: The minute-averaged voltage (in volts).\n",
    "- **Global Intensity**: The household's global minute-averaged current intensity (in amperes).\n",
    "- **Sub-metering 1**: Energy sub-metering for the kitchen, which includes appliances like a dishwasher, oven, and microwave (in watt-hours of active energy).\n",
    "- **Sub-metering 2**: Energy sub-metering for the laundry room, which includes appliances like a washing machine, dryer, refrigerator, and lights (in watt-hours of active energy).\n",
    "- **Sub-metering 3**: Energy sub-metering for an electric water heater and an air-conditioner (in watt-hours of active energy).\n",
    "\n",
    "By analyzing this dataset, we can gain insights into various aspects of household energy consumption, including:\n",
    "\n",
    "1. **Overall Consumption Patterns**: Explore the household's energy consumption trends over time, identify periods of high and low usage, and potentially correlate them with external factors (e.g., seasons, holidays, or occupancy patterns).\n",
    "\n",
    "2. **Appliance-level Analysis**: Investigate the energy consumption patterns of specific appliances or appliance groups (kitchen, laundry room, water heater, and air conditioning) by leveraging the sub-metering data.\n",
    "\n",
    "3. **Clustering and Segmentation**: Apply unsupervised learning techniques, such as K-Means clustering, to segment the data into distinct energy consumption profiles, potentially revealing different household behaviors or usage scenarios.\n",
    "\n",
    "4. **Forecasting and Anomaly Detection**: Develop models to forecast future energy consumption or detect anomalies in the data, which could assist in optimizing energy usage, identifying maintenance issues, or implementing energy-saving strategies.\n",
    "\n",
    "By conducting a comprehensive analysis of this dataset, we can uncover valuable insights into residential energy consumption patterns, contributing to a better understanding of household energy usage and potentially informing energy-efficient practices and policies."
   ]
  },
  {
   "cell_type": "markdown",
   "metadata": {},
   "source": [
    "### Further explianation of some of the confusing terms:\n",
    "\n",
    "1. **Active Power (Global_active_power):**\n",
    "Active power, measured in kilowatts (kW), is the real power consumed by electrical devices to perform actual work, such as running a motor, heating an oven, or powering a light bulb. It's the power that gets converted into useful work or heat. The higher the active power, the more energy is being consumed.\n",
    "\n",
    "2. **Reactive Power (Global_reactive_power):**\n",
    "Reactive power, measured in kilovars (kVAr), is the power required to produce and sustain magnetic fields in inductive loads like motors, transformers, and fluorescent lamps. It doesn't perform any useful work but is necessary for the operation of these devices. Reactive power tends to increase with inductive loads and can contribute to energy losses in the system.\n",
    "\n",
    "3. **Voltage (Voltage):**\n",
    "Voltage, measured in volts (V), is the electrical potential difference that drives the flow of electric current in a circuit. It represents the \"pressure\" that pushes the electrons through the conductors. Voltage is an important parameter in power systems, and deviations from the nominal voltage can affect the performance and efficiency of electrical devices.\n",
    "\n",
    "4. **Global Intensity (Global_intensity):**\n",
    "Global intensity, measured in amperes (A), represents the total electric current flowing through the household's electrical system. It's the sum of the currents drawn by all the connected electrical loads. Higher current intensity typically indicates higher power consumption, as power is the product of voltage and current.\n",
    "\n",
    "To summarize:\n",
    "- **Active Power** is the real power consumed by electrical devices to perform useful work or generate heat.\n",
    "- **Reactive Power** is the power required to produce and sustain magnetic fields in inductive loads but doesn't perform any useful work.\n",
    "- **Voltage** is the electrical potential difference that drives the flow of electric current.\n",
    "- **Global Intensity** is the total electric current flowing through the household's electrical system, which is directly related to power consumption."
   ]
  },
  {
   "cell_type": "markdown",
   "metadata": {},
   "source": [
    "---\n",
    "\n",
    "Next we are going to start working on the data. First of all, import the dataset."
   ]
  },
  {
   "cell_type": "code",
   "execution_count": 22,
   "metadata": {},
   "outputs": [
    {
     "name": "stderr",
     "output_type": "stream",
     "text": [
      "/Users/wenjiezhu/opt/anaconda3/envs/mbapython/lib/python3.9/site-packages/ucimlrepo/fetch.py:97: DtypeWarning: Columns (2,3,4,5,6,7) have mixed types. Specify dtype option on import or set low_memory=False.\n",
      "  df = pd.read_csv(data_url)\n"
     ]
    }
   ],
   "source": [
    "from ucimlrepo import fetch_ucirepo\n",
    "import pandas as pd\n",
    "from sklearn.preprocessing import StandardScaler\n",
    "from sklearn.cluster import KMeans\n",
    "\n",
    "# Fetch the dataset from UCI\n",
    "individual_household_electric_power_consumption = fetch_ucirepo(id=235)\n",
    "\n",
    "# Extract the data and targets as DataFrames\n",
    "X = individual_household_electric_power_consumption.data.features\n",
    "y = individual_household_electric_power_consumption.data.targets\n"
   ]
  },
  {
   "cell_type": "code",
   "execution_count": 24,
   "metadata": {},
   "outputs": [
    {
     "name": "stdout",
     "output_type": "stream",
     "text": [
      "{'uci_id': 235, 'name': 'Individual Household Electric Power Consumption', 'repository_url': 'https://archive.ics.uci.edu/dataset/235/individual+household+electric+power+consumption', 'data_url': 'https://archive.ics.uci.edu/static/public/235/data.csv', 'abstract': 'Measurements of electric power consumption in one household with a one-minute sampling rate over a period of almost 4 years. Different electrical quantities and some sub-metering values are available.', 'area': 'Physics and Chemistry', 'tasks': ['Regression', 'Clustering'], 'characteristics': ['Multivariate', 'Time-Series'], 'num_instances': 2075259, 'num_features': 9, 'feature_types': ['Real'], 'demographics': [], 'target_col': None, 'index_col': None, 'has_missing_values': 'no', 'missing_values_symbol': None, 'year_of_dataset_creation': 2006, 'last_updated': 'Fri Mar 08 2024', 'dataset_doi': '10.24432/C58K54', 'creators': ['Georges Hebrail', 'Alice Berard'], 'intro_paper': None, 'additional_info': {'summary': 'This archive contains 2075259 measurements gathered in a house located in Sceaux (7km of Paris, France) between December 2006 and November 2010 (47 months).\\r\\nNotes: \\r\\n1.(global_active_power*1000/60 - sub_metering_1 - sub_metering_2 - sub_metering_3) represents the active energy consumed every minute (in watt hour) in the household by electrical equipment not measured in sub-meterings 1, 2 and 3.\\r\\n2.The dataset contains some missing values in the measurements (nearly 1,25% of the rows). All calendar timestamps are present in the dataset but for some timestamps, the measurement values are missing: a missing value is represented by the absence of value between two consecutive semi-colon attribute separators. For instance, the dataset shows missing values on April 28, 2007.', 'purpose': None, 'funded_by': None, 'instances_represent': None, 'recommended_data_splits': None, 'sensitive_data': None, 'preprocessing_description': None, 'variable_info': '1.date: Date in format dd/mm/yyyy\\r\\n2.time: time in format hh:mm:ss\\r\\n3.global_active_power: household global minute-averaged active power (in kilowatt)\\r\\n4.global_reactive_power: household global minute-averaged reactive power (in kilowatt)\\r\\n5.voltage: minute-averaged voltage (in volt)\\r\\n6.global_intensity: household global minute-averaged current intensity (in ampere)\\r\\n7.sub_metering_1: energy sub-metering No. 1 (in watt-hour of active energy). It corresponds to the kitchen, containing mainly a dishwasher, an oven and a microwave (hot plates are not electric but gas powered).\\r\\n8.sub_metering_2: energy sub-metering No. 2 (in watt-hour of active energy). It corresponds to the laundry room, containing a washing-machine, a tumble-drier, a refrigerator and a light.\\r\\n9.sub_metering_3: energy sub-metering No. 3 (in watt-hour of active energy). It corresponds to an electric water-heater and an air-conditioner.', 'citation': None}}\n",
      "                    name     role         type demographic description units  \\\n",
      "0                   Date  Feature         Date        None        None  None   \n",
      "1                   Time  Feature  Categorical        None        None  None   \n",
      "2    Global_active_power  Feature   Continuous        None        None  None   \n",
      "3  Global_reactive_power  Feature   Continuous        None        None  None   \n",
      "4                Voltage  Feature   Continuous        None        None  None   \n",
      "5       Global_intensity  Feature   Continuous        None        None  None   \n",
      "6         Sub_metering_1  Feature   Continuous        None        None  None   \n",
      "7         Sub_metering_2  Feature   Continuous        None        None  None   \n",
      "8         Sub_metering_3  Feature   Continuous        None        None  None   \n",
      "\n",
      "  missing_values  \n",
      "0             no  \n",
      "1             no  \n",
      "2             no  \n",
      "3             no  \n",
      "4             no  \n",
      "5             no  \n",
      "6             no  \n",
      "7             no  \n",
      "8             no  \n"
     ]
    }
   ],
   "source": [
    "# Print the metadata\n",
    "print(individual_household_electric_power_consumption.metadata)\n",
    "\n",
    "# Print the variable information\n",
    "print(individual_household_electric_power_consumption.variables)"
   ]
  },
  {
   "cell_type": "markdown",
   "metadata": {},
   "source": [
    "Do some house cleaning of the data"
   ]
  },
  {
   "cell_type": "code",
   "execution_count": 25,
   "metadata": {},
   "outputs": [],
   "source": [
    "# Handle missing values (e.g., drop rows with missing values)\n",
    "household_power = household_power.dropna()"
   ]
  },
  {
   "cell_type": "code",
   "execution_count": 26,
   "metadata": {},
   "outputs": [],
   "source": [
    "# Select relevant features for clustering\n",
    "relevant_features = ['Global_active_power', 'Global_reactive_power', 'Voltage', 'Global_intensity', 'Sub_metering_1', 'Sub_metering_2', 'Sub_metering_3']\n",
    "X = household_power[relevant_features]\n",
    "\n",
    "# Normalize the data\n",
    "scaler = StandardScaler()\n",
    "X_scaled = scaler.fit_transform(X)"
   ]
  },
  {
   "cell_type": "markdown",
   "metadata": {},
   "source": [
    "Because the data have over 2M records, we would only use a subset of it for our project."
   ]
  },
  {
   "cell_type": "code",
   "execution_count": 27,
   "metadata": {},
   "outputs": [],
   "source": [
    "# Sample a subset of the data \n",
    "sample_size = 10_000  # Calculate the sample size (10% of the total rows)\n",
    "X_sample = X.sample(n=sample_size, random_state=42)  # Sample the data randomly\n",
    "\n",
    "# Scale the sampled data\n",
    "scaler = StandardScaler()\n",
    "X_sample_scaled = scaler.fit_transform(X_sample)"
   ]
  },
  {
   "cell_type": "markdown",
   "metadata": {},
   "source": [
    "### 10.1.1 2. Silhouette Analysis\n",
    "\n",
    "The Silhouette analysis is a method for determining the optimal number of clusters. It calculates the silhouette coefficient, which is a measure of how well each data point fits into its assigned cluster compared to other clusters. The optimal number of clusters is the one that maximizes the silhouette coefficient.\n",
    "\n",
    "Here's an example code to compute the silhouette scores for different values of k:"
   ]
  },
  {
   "cell_type": "code",
   "execution_count": 28,
   "metadata": {},
   "outputs": [
    {
     "data": {
      "image/png": "[encoded data removed]",
      "text/plain": [
       "<Figure size 432x288 with 1 Axes>"
      ]
     },
     "metadata": {
      "needs_background": "light"
     },
     "output_type": "display_data"
    }
   ],
   "source": [
    "from sklearn.metrics import silhouette_score\n",
    "from sklearn.cluster import KMeans\n",
    "import matplotlib.pyplot as plt\n",
    "\n",
    "# Create a list of number of clusters to try\n",
    "k_range = range(2, 11)\n",
    "\n",
    "# Initialize an empty list to store silhouette scores for each k\n",
    "silhouette_scores = []\n",
    "\n",
    "# Iterate over the range of k values\n",
    "for k in k_range:\n",
    "    # Create a KMeans object with the current value of k\n",
    "    kmeans = KMeans(n_clusters=k)\n",
    "    \n",
    "    # Fit the KMeans model to the scaled data\n",
    "    cluster_labels = kmeans.fit_predict(X_sample_scaled)\n",
    "    \n",
    "    # Compute the silhouette score for the current k\n",
    "    score = silhouette_score(X_sample_scaled, cluster_labels)\n",
    "    \n",
    "    # Append the silhouette score for the current k to the list\n",
    "    silhouette_scores.append(score)\n",
    "\n",
    "# Plot the silhouette scores against the number of clusters\n",
    "plt.plot(k_range, silhouette_scores, 'bx-')\n",
    "plt.xlabel('Number of Clusters (k)')\n",
    "plt.ylabel('Silhouette Score')\n",
    "plt.title('Silhouette Analysis for Optimal k')\n",
    "plt.show()"
   ]
  },
  {
   "cell_type": "markdown",
   "metadata": {},
   "source": [
    "As we could observe, a cluster of 4 is the most appropriate one since it has the highst Silhouette score. "
   ]
  },
  {
   "cell_type": "code",
   "execution_count": 29,
   "metadata": {},
   "outputs": [],
   "source": [
    "from sklearn.cluster import KMeans\n",
    "\n",
    "kmeans = KMeans(n_clusters=4)\n",
    "labels = kmeans.fit_predict(X_sample_scaled)"
   ]
  },
  {
   "cell_type": "markdown",
   "metadata": {},
   "source": [
    "We analyze the clusters"
   ]
  },
  {
   "cell_type": "code",
   "execution_count": 31,
   "metadata": {},
   "outputs": [
    {
     "name": "stdout",
     "output_type": "stream",
     "text": [
      "Cluster Centers:\n",
      " [[ 0.66031093  0.07482651 -0.33451446  0.64232541 -0.15316552 -0.14973986\n",
      "   1.18239563]\n",
      " [-0.61110014 -0.10381124  0.28515346 -0.60332967 -0.18217031 -0.1572825\n",
      "  -0.7231627 ]\n",
      " [ 2.64185169  0.7794826  -1.10169114  2.66697313  5.56098114 -0.01678046\n",
      "   0.59676113]\n",
      " [ 2.59038215  0.56581629 -1.00771347  2.61834205  0.12359475  5.59418041\n",
      "   0.59991789]]\n",
      "Cluster Sizes: [3416, 6036, 286, 262]\n"
     ]
    }
   ],
   "source": [
    "from sklearn.decomposition import PCA\n",
    "# Analyze the clusters\n",
    "cluster_centers = kmeans.cluster_centers_\n",
    "print(\"Cluster Centers:\\n\", cluster_centers)\n",
    "\n",
    "cluster_sizes = [sum(labels == i) for i in range(4)]\n",
    "print(\"Cluster Sizes:\", cluster_sizes)"
   ]
  },
  {
   "cell_type": "markdown",
   "metadata": {},
   "source": [
    "Based on the cluster centers and cluster sizes you provided, we can interpret the characteristics of each cluster:\n",
    "\n",
    "Cluster 0 (Size: 3416):\n",
    "\n",
    "- The slightly above-average values for global_active_power, global_reactive_power, voltage, and global_intensity suggest that there is some level of electrical activity and energy consumption happening in the household.\n",
    "- The slightly below-average sub-metering values for the kitchen, laundry room, and other appliances indicate that the energy consumption is not primarily driven by these high-power appliances.\n",
    "- This cluster could represent periods when someone is at home, engaging in regular activities that require moderate energy usage, such as running lights, electronics, or small appliances.\n",
    "\n",
    "Cluster 1 (Size: 6036):\n",
    "\n",
    "- The slightly below-average values for global_active_power, global_reactive_power, voltage, and global_intensity suggest lower overall energy consumption.\n",
    "- The slightly below-average sub-metering values also point towards minimal usage of major appliances like those in the kitchen or laundry room.\n",
    "- This cluster could potentially represent periods when the household is unoccupied or when the occupants are not actively using energy-intensive appliances or devices.\n",
    "\n",
    "Cluster 2 (Size: 286):\n",
    "- This cluster has significantly higher values for global_active_power, global_reactive_power, voltage, global_intensity, and sub_metering_1 (kitchen appliances).\n",
    "- This cluster likely represents periods of high energy consumption, potentially when multiple high-power appliances (like the oven, dishwasher, and microwave) are in use simultaneously.\n",
    "\n",
    "Cluster 3 (Size: 262):\n",
    "- This cluster has significantly higher values for global_active_power, global_reactive_power, voltage, global_intensity, and sub_metering_2 (laundry room appliances).\n",
    "- This cluster likely represents periods of high energy consumption in the laundry room, potentially when the washing machine, dryer, and other appliances are running.\n",
    "\n",
    "From the cluster sizes, we can see that the majority of data points (6038) fall into Cluster 1, which represents lower energy consumption periods. Clusters 2 and 3, though smaller in size, capture the periods of high energy consumption in the kitchen and laundry room, respectively.\n",
    "\n",
    "This analysis provides insights into the different energy consumption patterns present in the household, allowing you to identify periods of high and low energy usage, as well as the potential sources (e.g., kitchen appliances, laundry room appliances) contributing to the high consumption periods.\n",
    "\n",
    "Keep in mind that these interpretations are based solely on the cluster centers and sizes. For a more comprehensive understanding, you may want to explore the cluster statistics (mean values of each feature per cluster) and visualize the cluster assignments to gain additional insights."
   ]
  }
 ],
 "metadata": {
  "kernelspec": {
   "display_name": "mbapython",
   "language": "python",
   "name": "python3"
  },
  "language_info": {
   "codemirror_mode": {
    "name": "ipython",
    "version": 3
   },
   "file_extension": ".py",
   "mimetype": "text/x-python",
   "name": "python",
   "nbconvert_exporter": "python",
   "pygments_lexer": "ipython3",
   "version": "3.9.12"
  }
 },
 "nbformat": 4,
 "nbformat_minor": 2
}
