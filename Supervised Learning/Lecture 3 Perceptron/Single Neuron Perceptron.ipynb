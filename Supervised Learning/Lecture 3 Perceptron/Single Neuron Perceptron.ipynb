{
 "cells": [
  {
   "cell_type": "markdown",
   "metadata": {},
   "source": [
    "# Lecture 3. Introducing the Single Neuron Model"
   ]
  },
  {
   "cell_type": "markdown",
   "metadata": {},
   "source": [
    "---\n",
    "\n",
    "\n",
    "\n",
    "## The Perceptron \n",
    "\n",
    "In this notebook we introduce a specific type of single neuron model called the *perceptron*. For supplemental videos on this topic see:\n",
    "1. [Single Neuron Model and Perceptron Theory Video](https://www.youtube.com/watch?v=SmEKxsd_67w&t=1935s)\n",
    "2. [Implementing the Perceptron Code Video](https://www.youtube.com/watch?v=NpTfxpHlHJ4&t=1581s)\n",
    "\n",
    "The perceptron is a single neuron model with the *sign* activation function as depicted in the figure below.\n",
    "\n",
    "<p align=\"center\">\n",
    "    <img src=\"ThePerceptronImage.png\" width=\"500\">\n",
    "</p>\n",
    "\n",
    "\n",
    "We will implement and train this model on the Pima Indian Diabete dataset (which I have stored in a Datasets folder). If you have cloned my Github repository of my project go ahead and get started by running the following code in the cell below.\n",
    "\n",
    "\n",
    "---"
   ]
  },
  {
   "cell_type": "code",
   "execution_count": 1,
   "metadata": {},
   "outputs": [],
   "source": [
    "import matplotlib.pyplot as plt\n",
    "import numpy as np\n",
    "import pandas as pd\n",
    "import seaborn as sns\n",
    "\n",
    "# Import a nice function for plotting decision boudaries\n",
    "from mlxtend.plotting import plot_decision_regions\n",
    "\n",
    "# Set the Seaborn theme\n",
    "sns.set_theme()\n",
    "\n",
    "# Read the iris dataset into a pandas DataFrame object\n",
    "df = pd.read_csv(\"Datasets/diabetes.csv\")"
   ]
  },
  {
   "cell_type": "markdown",
   "metadata": {},
   "source": [
    "---\n",
    "\n",
    "## Pima Indians Diabetes Dataset Overview\n",
    "\n",
    "The Pima Indians Diabetes Dataset originates from the National Institute of Diabetes and Digestive and Kidney Diseases, focusing on the diagnostic prediction of diabetes among Pima Indian women aged 21 and above. It comprises several medical predictor variables, such as the number of pregnancies, BMI, insulin level, and age, alongside one target variable, 'Outcome', to indicate the presence or absence of diabetes.\n",
    "\n",
    "Acknowledged for its creation by Smith et al. (1988), this dataset provides a valuable resource for developing machine learning models to predict diabetes. It challenges researchers to apply advanced analytics in medical diagnosis, aiming to enhance patient care by accurately identifying those at risk of diabetes."
   ]
  },
  {
   "cell_type": "code",
   "execution_count": 3,
   "metadata": {},
   "outputs": [],
   "source": [
    "# Store the desired outcome values in the numpy array y\n",
    "y = df.Outcome.values\n",
    "\n",
    "# Convert each entry of y with 0 to -1 and 1 to 1\n",
    "y = np.where(y == 0, -1, 1)\n",
    "\n",
    "# Store the desired feature measurements in the matrix X\n",
    "X = df[[\"Pregnancies\", \"Glucose\", \"BloodPressure\", \"SkinThickness\", \"Insulin\", \"BMI\", \"DiabetesPedigreeFunction\", \"Age\"]].values"
   ]
  },
  {
   "cell_type": "markdown",
   "metadata": {},
   "source": [
    "## The Perceptron Algorithm\n",
    "\n",
    "The Perceptron is a fundamental building block of artificial neural networks and a simple algorithm for binary classification tasks. It is a type of linear classifier that learns a decision boundary to separate two classes in a feature space.\n",
    "\n",
    "The Perceptron algorithm works as follows:\n",
    "\n",
    "1. Initialization:\n",
    "   - Initialize the weights (w) of the Perceptron randomly, including the bias term.\n",
    "   - Set the learning rate (eta) and the number of epochs.\n",
    "\n",
    "2. Training:\n",
    "   - For each epoch:\n",
    "     - For each training example (x, y):\n",
    "       - Calculate the predicted output by taking the dot product of the input features (x) and the weights (w), and adding the bias term.\n",
    "       - If the predicted output doesn't match the actual label (y), update the weights by subtracting the product of the learning rate, the input features (x), and the difference between the predicted output and the actual label.\n",
    "   - If the weights converge (i.e., no misclassifications occur in an epoch), training can be stopped early.\n",
    "\n",
    "3. Prediction:\n",
    "   - For a new input example (x), calculate the dot product of the input features (x) and the learned weights (w), and add the bias term.\n",
    "   - Apply a step function to the result. If the output is greater than or equal to 0, predict the positive class (1); otherwise, predict the negative class (-1).\n",
    "\n",
    "The Perceptron algorithm learns the optimal weights that minimize the classification errors on the training data. It does this by iteratively updating the weights based on the misclassified examples, moving the decision boundary towards the correct classification.\n",
    "\n",
    "However, the Perceptron has some limitations:\n",
    "- It can only learn linearly separable patterns. If the classes are not linearly separable, the Perceptron will not converge.\n",
    "- It is sensitive to the learning rate and the number of epochs. Choosing appropriate values for these hyperparameters is important for effective learning.\n",
    "- It does not provide probabilistic outputs or handle multi-class classification directly.\n",
    "\n",
    "Despite its simplicity, the Perceptron laid the foundation for more advanced neural network architectures and continues to be a valuable learning tool in understanding the basics of machine learning.#"
   ]
  },
  {
   "cell_type": "code",
   "execution_count": 14,
   "metadata": {},
   "outputs": [],
   "source": [
    "class Perceptron(object):\n",
    "    def __init__(self, eta = .5, epochs=50):\n",
    "        self.eta = eta\n",
    "        self.epochs = epochs\n",
    "        \n",
    "    def train(self, X, y):\n",
    "        self.w_ = np.random.rand(1 + X.shape[1])\n",
    "        \n",
    "        self.errors_ = []\n",
    "        \n",
    "        for _ in range(self.epochs):\n",
    "            errors = 0\n",
    "            for xi, target in zip(X, y):\n",
    "                update = self.eta * (self.predict(xi) - target)\n",
    "                self.w_[:-1] -= update*xi\n",
    "                self.w_[-1] -= update\n",
    "                errors += int(update != 0)\n",
    "            if errors == 0:\n",
    "                return self\n",
    "            else:\n",
    "                self.errors_.append(errors)\n",
    "            \n",
    "        return self\n",
    "    \n",
    "    def net_input(self, X):\n",
    "        return np.dot(X, self.w_[:-1]) + self.w_[-1]\n",
    "    \n",
    "    def predict(self, X):\n",
    "        return np.where(self.net_input(X) >= 0.0, 1, -1)\n",
    "        "
   ]
  },
  {
   "cell_type": "code",
   "execution_count": 20,
   "metadata": {},
   "outputs": [
    {
     "data": {
      "text/plain": [
       "<__main__.Perceptron at 0x7fdc8009e220>"
      ]
     },
     "execution_count": 20,
     "metadata": {},
     "output_type": "execute_result"
    }
   ],
   "source": [
    "# Instantiate one instance of the Perceptron class\n",
    "clf = Perceptron(epochs = 10_000)\n",
    "\n",
    "# Call the train method to train the weights and bias of the given instance\n",
    "clf.train(X, y)\n",
    "\n",
    "# The training lasts around 10 minutes on my own machine.\n",
    "# I've tried both 100_000 and 10_000 epochs, but the difference in accuracy is no much different."
   ]
  },
  {
   "cell_type": "markdown",
   "metadata": {},
   "source": [
    "After training has finished we can call the ```Perceptron``` class ```predict``` method to view its current predictions given input features. We can quickly view these predictions on the entries in ```X``` by running the following code in the cell below."
   ]
  },
  {
   "cell_type": "code",
   "execution_count": 22,
   "metadata": {},
   "outputs": [
    {
     "name": "stdout",
     "output_type": "stream",
     "text": [
      "[ True  True  True  True  True  True False False  True False  True  True\n",
      " False  True  True  True  True False False False False  True  True False\n",
      "  True  True  True  True False  True  True  True  True  True  True False\n",
      " False False False  True False False  True  True False  True False  True\n",
      " False  True  True  True  True  True False  True  True  True False  True\n",
      "  True  True  True False False  True False  True  True False False False\n",
      "  True False  True  True  True  True  True  True  True  True  True  True\n",
      "  True  True  True  True  True  True  True False  True False False False\n",
      "  True  True  True  True  True False  True  True  True False  True False\n",
      "  True False  True  True  True  True  True  True  True  True  True  True\n",
      "  True  True  True  True False  True False  True False False  True  True\n",
      "  True  True  True False  True  True  True False  True  True  True False\n",
      " False  True  True False False  True False  True  True False  True  True\n",
      "  True  True  True  True False  True False  True False  True False False\n",
      "  True  True False  True False  True  True  True  True  True False  True\n",
      "  True False  True  True False  True  True  True False  True  True False\n",
      "  True  True  True  True  True False  True  True  True False  True  True\n",
      " False  True  True  True  True  True  True False False  True  True  True\n",
      "  True False False False  True  True False False  True  True  True  True\n",
      " False  True  True  True  True False  True  True  True  True  True  True\n",
      "  True  True  True  True False  True False False False  True False  True\n",
      "  True  True  True False  True  True False  True False  True  True False\n",
      "  True  True  True False  True  True  True  True  True  True False  True\n",
      " False  True  True False  True False False  True False False False  True\n",
      "  True  True  True False  True  True False False  True False  True  True\n",
      "  True  True  True  True False False  True False  True  True  True  True\n",
      "  True False  True  True  True  True False  True False False False  True\n",
      "  True False  True False False  True False  True  True  True  True False\n",
      " False False  True  True False  True  True  True  True False False False\n",
      "  True False  True False  True  True  True  True  True  True  True  True\n",
      "  True False  True  True False  True False  True  True False  True  True\n",
      "  True  True False  True  True  True  True  True  True  True False  True\n",
      "  True  True False False  True  True  True  True False  True  True False\n",
      "  True False  True  True False False  True  True  True False False  True\n",
      "  True  True  True  True False False  True  True  True  True  True  True\n",
      " False  True  True  True  True  True  True  True False False  True  True\n",
      "  True  True  True  True False False  True  True  True  True False  True\n",
      " False  True  True  True False  True  True  True  True False  True  True\n",
      " False  True  True False False  True  True  True  True  True  True  True\n",
      "  True False False  True  True False  True  True False  True  True  True\n",
      "  True  True  True  True  True  True False False  True False  True  True\n",
      "  True  True  True False  True  True  True False  True  True False  True\n",
      "  True  True  True False  True  True False False  True  True  True  True\n",
      "  True False  True False  True  True  True  True False  True  True  True\n",
      " False  True False  True  True False  True  True  True  True False  True\n",
      "  True  True False  True  True  True  True False False False  True  True\n",
      "  True  True  True False  True  True False  True  True  True  True  True\n",
      "  True  True  True  True False  True  True  True  True  True False False\n",
      " False  True False  True  True  True  True  True  True  True  True  True\n",
      "  True  True  True  True  True  True False  True  True  True  True  True\n",
      "  True False  True  True  True False  True  True False  True  True  True\n",
      "  True  True  True  True  True  True  True  True  True  True False  True\n",
      "  True  True  True  True False  True  True  True  True  True  True False\n",
      "  True  True  True  True  True False  True False  True False  True  True\n",
      "  True  True  True False False  True  True  True  True False False False\n",
      " False  True  True  True False  True  True False False False False  True\n",
      "  True False  True  True  True  True  True  True  True  True  True False\n",
      "  True False  True  True False  True  True  True False  True  True  True\n",
      "  True  True False False False False  True False  True  True False False\n",
      "  True False False  True  True False  True  True  True  True  True False\n",
      "  True False  True  True  True  True False  True False  True False False\n",
      "  True  True  True  True  True  True  True False  True  True  True  True\n",
      " False  True  True  True  True  True  True  True  True  True  True  True\n",
      " False False  True  True  True  True  True  True  True  True  True  True]\n",
      "Accuracy: 71.22%\n"
     ]
    }
   ],
   "source": [
    "from sklearn.metrics import accuracy_score\n",
    "\n",
    "# Predict labels on the features in X\n",
    "y_hat = clf.predict(X)\n",
    "\n",
    "# Compare y_hat and y\n",
    "print(y == y_hat)\n",
    "\n",
    "# Calculate the accuracy\n",
    "accuracy = accuracy_score(y, y_hat)\n",
    "print(\"Accuracy: {:.2f}%\".format(accuracy * 100))"
   ]
  },
  {
   "cell_type": "code",
   "execution_count": 23,
   "metadata": {},
   "outputs": [
    {
     "data": {
      "image/png": "[encoded data removed]",
      "text/plain": [
       "<Figure size 720x576 with 1 Axes>"
      ]
     },
     "metadata": {},
     "output_type": "display_data"
    }
   ],
   "source": [
    "plt.figure(figsize = (10, 8))\n",
    "plt.plot(range(1, len(clf.errors_)+1), clf.errors_, \n",
    "         marker = \"o\",\n",
    "         label = \"error plot\",)\n",
    "plt.xlabel(\"Iterations\")\n",
    "plt.ylabel(\"Missclassifications\")\n",
    "plt.legend()\n",
    "plt.show()"
   ]
  },
  {
   "cell_type": "markdown",
   "metadata": {},
   "source": [
    "### Conclusion\n",
    "We have applied the Perceptron algorithm to classify the presence of diabetes based on various health measurements. The Perceptron model achieved an accuracy of around 71% on this dataset.\n",
    "\n",
    "However, it's important to note that the Perceptron algorithm assumes linear separability of the data. In this case, the accuracy of 71% suggests that the diabetes dataset may not be perfectly linearly separable. When the data is not linearly separable, the Perceptron algorithm may struggle to find a satisfactory decision boundary, leading to suboptimal classification performance.\n",
    "\n",
    "To further explore the limitations of the Perceptron and investigate the impact of linear separability, I encourage you to experiment with different subsets of the diabetes dataset or consider other datasets with varying degrees of linear separability. For example, you could try applying the Perceptron to classify different types of diabetes or explore the relationship between specific health measurements and diabetes outcomes.\n",
    "\n",
    "Additionally, it would be valuable to compare the Perceptron's performance with other classification algorithms, such as logistic regression, decision trees, or support vector machines. These algorithms have different assumptions and can handle non-linearly separable data to varying extents.\n",
    "\n",
    "Furthermore, I recommend exploring feature engineering techniques to create new features or transform existing ones, which may improve the linear separability of the data and potentially enhance the Perceptron's performance.\n",
    "\n",
    "By conducting these experiments and analyzing the results, you can gain a deeper understanding of the strengths and limitations of the Perceptron algorithm and develop insights into handling complex, real-world classification problems."
   ]
  },
  {
   "cell_type": "markdown",
   "metadata": {},
   "source": []
  }
 ],
 "metadata": {
  "kernelspec": {
   "display_name": "mbapython",
   "language": "python",
   "name": "python3"
  },
  "language_info": {
   "codemirror_mode": {
    "name": "ipython",
    "version": 3
   },
   "file_extension": ".py",
   "mimetype": "text/x-python",
   "name": "python",
   "nbconvert_exporter": "python",
   "pygments_lexer": "ipython3",
   "version": "3.9.12"
  }
 },
 "nbformat": 4,
 "nbformat_minor": 2
}
